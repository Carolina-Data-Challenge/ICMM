{
 "metadata": {
  "language_info": {
   "codemirror_mode": {
    "name": "ipython",
    "version": 3
   },
   "file_extension": ".py",
   "mimetype": "text/x-python",
   "name": "python",
   "nbconvert_exporter": "python",
   "pygments_lexer": "ipython3",
   "version": "3.7.7-final"
  },
  "orig_nbformat": 2,
  "kernelspec": {
   "name": "Python 3.7.7 64-bit (conda)",
   "display_name": "Python 3.7.7 64-bit (conda)",
   "metadata": {
    "interpreter": {
     "hash": "e134e05457d34029b6460cd73bbf1ed73f339b5b6d98c95be70b69eba114fe95"
    }
   }
  }
 },
 "nbformat": 4,
 "nbformat_minor": 2,
 "cells": [
  {
   "source": [
    "# Decision Tree Model"
   ],
   "cell_type": "markdown",
   "metadata": {}
  },
  {
   "cell_type": "code",
   "execution_count": 14,
   "metadata": {},
   "outputs": [],
   "source": [
    "# import libraries\n",
    "import numpy as np # linear algebra and arraus\n",
    "import pandas as pd # data processing, CSV file I/O (e.g. pd.read_csv)\n",
    "from sklearn import tree\n",
    "from sklearn.model_selection import train_test_split\n",
    "from sklearn.metrics import accuracy_score, confusion_matrix\n",
    "from sklearn import preprocessing\n",
    "# Input data files are available in the \"../input/\" directory.\n",
    "# For example, running this (by clicking run or pressing Shift+Enter) will list the files in the input directory\n"
   ]
  },
  {
   "cell_type": "code",
   "execution_count": 20,
   "metadata": {
    "tags": []
   },
   "outputs": [
    {
     "output_type": "stream",
     "name": "stdout",
     "text": "activity_year\nderived_loan_product_type\nderived_dwelling_category\nderived_ethnicity\nderived_race\nderived_sex\npurchaser_type\npreapproval\nloan_purpose\nreverse_mortgage\nopen-end_line_of_credit\nbusiness_or_commercial_purpose\nloan_amount\nhoepa_status\nloan_term\nnegative_amortization\ninterest_only_payment\nballoon_payment\nother_nonamortizing_features\nmanufactured_home_secured_property_type\nmanufactured_home_land_property_interest\ntotal_units\nincome\napplicant_ethnicity_observed\napplicant_sex_observed\napplicant_age\nsubmission_of_application\ndenial_reason-1\napproved\n"
    }
   ],
   "source": []
  },
  {
   "cell_type": "code",
   "execution_count": 28,
   "metadata": {},
   "outputs": [
    {
     "output_type": "execute_result",
     "data": {
      "text/plain": "   activity_year derived_loan_product_type  \\\n0           2018   Conventional:First Lien   \n1           2018   Conventional:First Lien   \n2           2018            FHA:First Lien   \n3           2018   Conventional:First Lien   \n4           2018   Conventional:First Lien   \n\n              derived_dwelling_category        derived_ethnicity  \\\n0  Single Family (1-4 Units):Site-Built   Not Hispanic or Latino   \n1  Single Family (1-4 Units):Site-Built   Not Hispanic or Latino   \n2  Single Family (1-4 Units):Site-Built   Not Hispanic or Latino   \n3  Single Family (1-4 Units):Site-Built   Not Hispanic or Latino   \n4  Single Family (1-4 Units):Site-Built  Ethnicity Not Available   \n\n                derived_race        derived_sex  purchaser_type  preapproval  \\\n0                      White              Joint               0            2   \n1                      White               Male               0            2   \n2  Black or African American              Joint               0            2   \n3                      White               Male               0            2   \n4         Race Not Available  Sex Not Available               0            2   \n\n   loan_purpose  reverse_mortgage  ...  \\\n0             1                 2  ...   \n1            32                 2  ...   \n2            32                 2  ...   \n3             1                 2  ...   \n4             1                 2  ...   \n\n   manufactured_home_secured_property_type  \\\n0                                        3   \n1                                        3   \n2                                        3   \n3                                        3   \n4                                        3   \n\n   manufactured_home_land_property_interest  total_units  income  \\\n0                                         5            1    59.0   \n1                                         5            1   114.0   \n2                                         5            1   124.0   \n3                                         5            1   185.0   \n4                                         5            1    72.0   \n\n   applicant_ethnicity_observed  applicant_sex_observed  applicant_age  \\\n0                             2                       2          35-44   \n1                             2                       2          65-74   \n2                             2                       2          45-54   \n3                             2                       2          35-44   \n4                             2                       2          45-54   \n\n   submission_of_application  denial_reason-1  approved  \n0                          1                7         0  \n1                          1               10         0  \n2                          1                1         0  \n3                          1               10         0  \n4                          1               10         0  \n\n[5 rows x 29 columns]",
      "text/html": "<div>\n<style scoped>\n    .dataframe tbody tr th:only-of-type {\n        vertical-align: middle;\n    }\n\n    .dataframe tbody tr th {\n        vertical-align: top;\n    }\n\n    .dataframe thead th {\n        text-align: right;\n    }\n</style>\n<table border=\"1\" class=\"dataframe\">\n  <thead>\n    <tr style=\"text-align: right;\">\n      <th></th>\n      <th>activity_year</th>\n      <th>derived_loan_product_type</th>\n      <th>derived_dwelling_category</th>\n      <th>derived_ethnicity</th>\n      <th>derived_race</th>\n      <th>derived_sex</th>\n      <th>purchaser_type</th>\n      <th>preapproval</th>\n      <th>loan_purpose</th>\n      <th>reverse_mortgage</th>\n      <th>...</th>\n      <th>manufactured_home_secured_property_type</th>\n      <th>manufactured_home_land_property_interest</th>\n      <th>total_units</th>\n      <th>income</th>\n      <th>applicant_ethnicity_observed</th>\n      <th>applicant_sex_observed</th>\n      <th>applicant_age</th>\n      <th>submission_of_application</th>\n      <th>denial_reason-1</th>\n      <th>approved</th>\n    </tr>\n  </thead>\n  <tbody>\n    <tr>\n      <th>0</th>\n      <td>2018</td>\n      <td>Conventional:First Lien</td>\n      <td>Single Family (1-4 Units):Site-Built</td>\n      <td>Not Hispanic or Latino</td>\n      <td>White</td>\n      <td>Joint</td>\n      <td>0</td>\n      <td>2</td>\n      <td>1</td>\n      <td>2</td>\n      <td>...</td>\n      <td>3</td>\n      <td>5</td>\n      <td>1</td>\n      <td>59.0</td>\n      <td>2</td>\n      <td>2</td>\n      <td>35-44</td>\n      <td>1</td>\n      <td>7</td>\n      <td>0</td>\n    </tr>\n    <tr>\n      <th>1</th>\n      <td>2018</td>\n      <td>Conventional:First Lien</td>\n      <td>Single Family (1-4 Units):Site-Built</td>\n      <td>Not Hispanic or Latino</td>\n      <td>White</td>\n      <td>Male</td>\n      <td>0</td>\n      <td>2</td>\n      <td>32</td>\n      <td>2</td>\n      <td>...</td>\n      <td>3</td>\n      <td>5</td>\n      <td>1</td>\n      <td>114.0</td>\n      <td>2</td>\n      <td>2</td>\n      <td>65-74</td>\n      <td>1</td>\n      <td>10</td>\n      <td>0</td>\n    </tr>\n    <tr>\n      <th>2</th>\n      <td>2018</td>\n      <td>FHA:First Lien</td>\n      <td>Single Family (1-4 Units):Site-Built</td>\n      <td>Not Hispanic or Latino</td>\n      <td>Black or African American</td>\n      <td>Joint</td>\n      <td>0</td>\n      <td>2</td>\n      <td>32</td>\n      <td>2</td>\n      <td>...</td>\n      <td>3</td>\n      <td>5</td>\n      <td>1</td>\n      <td>124.0</td>\n      <td>2</td>\n      <td>2</td>\n      <td>45-54</td>\n      <td>1</td>\n      <td>1</td>\n      <td>0</td>\n    </tr>\n    <tr>\n      <th>3</th>\n      <td>2018</td>\n      <td>Conventional:First Lien</td>\n      <td>Single Family (1-4 Units):Site-Built</td>\n      <td>Not Hispanic or Latino</td>\n      <td>White</td>\n      <td>Male</td>\n      <td>0</td>\n      <td>2</td>\n      <td>1</td>\n      <td>2</td>\n      <td>...</td>\n      <td>3</td>\n      <td>5</td>\n      <td>1</td>\n      <td>185.0</td>\n      <td>2</td>\n      <td>2</td>\n      <td>35-44</td>\n      <td>1</td>\n      <td>10</td>\n      <td>0</td>\n    </tr>\n    <tr>\n      <th>4</th>\n      <td>2018</td>\n      <td>Conventional:First Lien</td>\n      <td>Single Family (1-4 Units):Site-Built</td>\n      <td>Ethnicity Not Available</td>\n      <td>Race Not Available</td>\n      <td>Sex Not Available</td>\n      <td>0</td>\n      <td>2</td>\n      <td>1</td>\n      <td>2</td>\n      <td>...</td>\n      <td>3</td>\n      <td>5</td>\n      <td>1</td>\n      <td>72.0</td>\n      <td>2</td>\n      <td>2</td>\n      <td>45-54</td>\n      <td>1</td>\n      <td>10</td>\n      <td>0</td>\n    </tr>\n  </tbody>\n</table>\n<p>5 rows × 29 columns</p>\n</div>"
     },
     "metadata": {},
     "execution_count": 28
    }
   ],
   "source": [
    "Orange.head()"
   ]
  },
  {
   "cell_type": "code",
   "execution_count": 32,
   "metadata": {
    "tags": []
   },
   "outputs": [
    {
     "output_type": "execute_result",
     "data": {
      "text/plain": "[array([&#39;Conventional:First Lien&#39;, &#39;Conventional:Subordinate Lien&#39;,\n        &#39;FHA:First Lien&#39;, &#39;FHA:Subordinate Lien&#39;, &#39;FSA/RHS:First Lien&#39;,\n        &#39;VA:First Lien&#39;], dtype=object),\n array([&#39;Multifamily:Manufactured&#39;, &#39;Multifamily:Site-Built&#39;,\n        &#39;Single Family (1-4 Units):Manufactured&#39;,\n        &#39;Single Family (1-4 Units):Site-Built&#39;], dtype=object),\n array([&#39;Ethnicity Not Available&#39;, &#39;Free Form Text Only&#39;,\n        &#39;Hispanic or Latino&#39;, &#39;Joint&#39;, &#39;Not Hispanic or Latino&#39;],\n       dtype=object),\n array([&#39;2 or more minority races&#39;, &#39;American Indian or Alaska Native&#39;,\n        &#39;Asian&#39;, &#39;Black or African American&#39;, &#39;Free Form Text Only&#39;,\n        &#39;Joint&#39;, &#39;Native Hawaiian or Other Pacific Islander&#39;,\n        &#39;Race Not Available&#39;, &#39;White&#39;], dtype=object),\n array([&#39;Female&#39;, &#39;Joint&#39;, &#39;Male&#39;, &#39;Sex Not Available&#39;], dtype=object)]"
     },
     "metadata": {},
     "execution_count": 32
    }
   ],
   "source": [
    "Orange = pd.read_csv(\"./data_cleaned/county_37135.csv\")\n",
    "for col in Orange.columns:\n",
    "    Orange[col].fillna(Orange[col].mode()[0], inplace=True)\n",
    "# encode all categorical var\n",
    "enc = preprocessing.OrdinalEncoder()\n",
    "enc.fit(Orange.iloc[:, 1:6])\n",
    "enc.transform(Orange.iloc[:, 1:6])\n",
    "enc.categories_"
   ]
  },
  {
   "cell_type": "code",
   "execution_count": 9,
   "metadata": {},
   "outputs": [],
   "source": [
    "x_train, x_validation, y_train, y_validation = train_test_split(Orange.iloc[:, :-1],Orange.iloc[:, -1],test_size=.25,random_state=1)\n"
   ]
  },
  {
   "cell_type": "code",
   "execution_count": 33,
   "metadata": {},
   "outputs": [
    {
     "output_type": "error",
     "ename": "ValueError",
     "evalue": "could not convert string to float: &#39;Conventional:First Lien&#39;",
     "traceback": [
      "\u001b[0;31m---------------------------------------------------------------------------\u001b[0m",
      "\u001b[0;31mValueError\u001b[0m                                Traceback (most recent call last)",
      "\u001b[0;32m&lt;ipython-input-33-d7a706814e83&gt;\u001b[0m in \u001b[0;36m&lt;module&gt;\u001b[0;34m\u001b[0m\n\u001b[1;32m      1\u001b[0m \u001b[0mtree_one\u001b[0m \u001b[0;34m=\u001b[0m \u001b[0mtree\u001b[0m\u001b[0;34m.\u001b[0m\u001b[0mDecisionTreeClassifier\u001b[0m\u001b[0;34m(\u001b[0m\u001b[0;34m)\u001b[0m\u001b[0;34m\u001b[0m\u001b[0;34m\u001b[0m\u001b[0m\n\u001b[0;32m----&gt; 2\u001b[0;31m \u001b[0mtree_one\u001b[0m \u001b[0;34m=\u001b[0m \u001b[0mtree_one\u001b[0m\u001b[0;34m.\u001b[0m\u001b[0mfit\u001b[0m\u001b[0;34m(\u001b[0m\u001b[0mx_train\u001b[0m\u001b[0;34m,\u001b[0m \u001b[0my_train\u001b[0m\u001b[0;34m)\u001b[0m\u001b[0;34m\u001b[0m\u001b[0;34m\u001b[0m\u001b[0m\n\u001b[0m",
      "\u001b[0;32m/usr/local/anaconda3/lib/python3.7/site-packages/sklearn/tree/_classes.py\u001b[0m in \u001b[0;36mfit\u001b[0;34m(self, X, y, sample_weight, check_input, X_idx_sorted)\u001b[0m\n\u001b[1;32m    875\u001b[0m             \u001b[0msample_weight\u001b[0m\u001b[0;34m=\u001b[0m\u001b[0msample_weight\u001b[0m\u001b[0;34m,\u001b[0m\u001b[0;34m\u001b[0m\u001b[0;34m\u001b[0m\u001b[0m\n\u001b[1;32m    876\u001b[0m             \u001b[0mcheck_input\u001b[0m\u001b[0;34m=\u001b[0m\u001b[0mcheck_input\u001b[0m\u001b[0;34m,\u001b[0m\u001b[0;34m\u001b[0m\u001b[0;34m\u001b[0m\u001b[0m\n\u001b[0;32m--&gt; 877\u001b[0;31m             X_idx_sorted=X_idx_sorted)\n\u001b[0m\u001b[1;32m    878\u001b[0m         \u001b[0;32mreturn\u001b[0m \u001b[0mself\u001b[0m\u001b[0;34m\u001b[0m\u001b[0;34m\u001b[0m\u001b[0m\n\u001b[1;32m    879\u001b[0m \u001b[0;34m\u001b[0m\u001b[0m\n",
      "\u001b[0;32m/usr/local/anaconda3/lib/python3.7/site-packages/sklearn/tree/_classes.py\u001b[0m in \u001b[0;36mfit\u001b[0;34m(self, X, y, sample_weight, check_input, X_idx_sorted)\u001b[0m\n\u001b[1;32m    147\u001b[0m \u001b[0;34m\u001b[0m\u001b[0m\n\u001b[1;32m    148\u001b[0m         \u001b[0;32mif\u001b[0m \u001b[0mcheck_input\u001b[0m\u001b[0;34m:\u001b[0m\u001b[0;34m\u001b[0m\u001b[0;34m\u001b[0m\u001b[0m\n\u001b[0;32m--&gt; 149\u001b[0;31m             \u001b[0mX\u001b[0m \u001b[0;34m=\u001b[0m \u001b[0mcheck_array\u001b[0m\u001b[0;34m(\u001b[0m\u001b[0mX\u001b[0m\u001b[0;34m,\u001b[0m \u001b[0mdtype\u001b[0m\u001b[0;34m=\u001b[0m\u001b[0mDTYPE\u001b[0m\u001b[0;34m,\u001b[0m \u001b[0maccept_sparse\u001b[0m\u001b[0;34m=\u001b[0m\u001b[0;34m&quot;csc&quot;\u001b[0m\u001b[0;34m)\u001b[0m\u001b[0;34m\u001b[0m\u001b[0;34m\u001b[0m\u001b[0m\n\u001b[0m\u001b[1;32m    150\u001b[0m             \u001b[0my\u001b[0m \u001b[0;34m=\u001b[0m \u001b[0mcheck_array\u001b[0m\u001b[0;34m(\u001b[0m\u001b[0my\u001b[0m\u001b[0;34m,\u001b[0m \u001b[0mensure_2d\u001b[0m\u001b[0;34m=\u001b[0m\u001b[0;32mFalse\u001b[0m\u001b[0;34m,\u001b[0m \u001b[0mdtype\u001b[0m\u001b[0;34m=\u001b[0m\u001b[0;32mNone\u001b[0m\u001b[0;34m)\u001b[0m\u001b[0;34m\u001b[0m\u001b[0;34m\u001b[0m\u001b[0m\n\u001b[1;32m    151\u001b[0m             \u001b[0;32mif\u001b[0m \u001b[0missparse\u001b[0m\u001b[0;34m(\u001b[0m\u001b[0mX\u001b[0m\u001b[0;34m)\u001b[0m\u001b[0;34m:\u001b[0m\u001b[0;34m\u001b[0m\u001b[0;34m\u001b[0m\u001b[0m\n",
      "\u001b[0;32m/usr/local/anaconda3/lib/python3.7/site-packages/sklearn/utils/validation.py\u001b[0m in \u001b[0;36mcheck_array\u001b[0;34m(array, accept_sparse, accept_large_sparse, dtype, order, copy, force_all_finite, ensure_2d, allow_nd, ensure_min_samples, ensure_min_features, warn_on_dtype, estimator)\u001b[0m\n\u001b[1;32m    529\u001b[0m                     \u001b[0marray\u001b[0m \u001b[0;34m=\u001b[0m \u001b[0marray\u001b[0m\u001b[0;34m.\u001b[0m\u001b[0mastype\u001b[0m\u001b[0;34m(\u001b[0m\u001b[0mdtype\u001b[0m\u001b[0;34m,\u001b[0m \u001b[0mcasting\u001b[0m\u001b[0;34m=\u001b[0m\u001b[0;34m&quot;unsafe&quot;\u001b[0m\u001b[0;34m,\u001b[0m \u001b[0mcopy\u001b[0m\u001b[0;34m=\u001b[0m\u001b[0;32mFalse\u001b[0m\u001b[0;34m)\u001b[0m\u001b[0;34m\u001b[0m\u001b[0;34m\u001b[0m\u001b[0m\n\u001b[1;32m    530\u001b[0m                 \u001b[0;32melse\u001b[0m\u001b[0;34m:\u001b[0m\u001b[0;34m\u001b[0m\u001b[0;34m\u001b[0m\u001b[0m\n\u001b[0;32m--&gt; 531\u001b[0;31m                     \u001b[0marray\u001b[0m \u001b[0;34m=\u001b[0m \u001b[0mnp\u001b[0m\u001b[0;34m.\u001b[0m\u001b[0masarray\u001b[0m\u001b[0;34m(\u001b[0m\u001b[0marray\u001b[0m\u001b[0;34m,\u001b[0m \u001b[0morder\u001b[0m\u001b[0;34m=\u001b[0m\u001b[0morder\u001b[0m\u001b[0;34m,\u001b[0m \u001b[0mdtype\u001b[0m\u001b[0;34m=\u001b[0m\u001b[0mdtype\u001b[0m\u001b[0;34m)\u001b[0m\u001b[0;34m\u001b[0m\u001b[0;34m\u001b[0m\u001b[0m\n\u001b[0m\u001b[1;32m    532\u001b[0m             \u001b[0;32mexcept\u001b[0m \u001b[0mComplexWarning\u001b[0m\u001b[0;34m:\u001b[0m\u001b[0;34m\u001b[0m\u001b[0;34m\u001b[0m\u001b[0m\n\u001b[1;32m    533\u001b[0m                 raise ValueError(&quot;Complex data not supported\\n&quot;\n",
      "\u001b[0;32m/usr/local/anaconda3/lib/python3.7/site-packages/numpy/core/_asarray.py\u001b[0m in \u001b[0;36masarray\u001b[0;34m(a, dtype, order)\u001b[0m\n\u001b[1;32m     83\u001b[0m \u001b[0;34m\u001b[0m\u001b[0m\n\u001b[1;32m     84\u001b[0m     &quot;&quot;&quot;\n\u001b[0;32m---&gt; 85\u001b[0;31m     \u001b[0;32mreturn\u001b[0m \u001b[0marray\u001b[0m\u001b[0;34m(\u001b[0m\u001b[0ma\u001b[0m\u001b[0;34m,\u001b[0m \u001b[0mdtype\u001b[0m\u001b[0;34m,\u001b[0m \u001b[0mcopy\u001b[0m\u001b[0;34m=\u001b[0m\u001b[0;32mFalse\u001b[0m\u001b[0;34m,\u001b[0m \u001b[0morder\u001b[0m\u001b[0;34m=\u001b[0m\u001b[0morder\u001b[0m\u001b[0;34m)\u001b[0m\u001b[0;34m\u001b[0m\u001b[0;34m\u001b[0m\u001b[0m\n\u001b[0m\u001b[1;32m     86\u001b[0m \u001b[0;34m\u001b[0m\u001b[0m\n\u001b[1;32m     87\u001b[0m \u001b[0;34m\u001b[0m\u001b[0m\n",
      "\u001b[0;31mValueError\u001b[0m: could not convert string to float: &#39;Conventional:First Lien&#39;"
     ]
    }
   ],
   "source": [
    "tree_one = tree.DecisionTreeClassifier()\n",
    "tree_one = tree_one.fit(x_train, y_train)"
   ]
  },
  {
   "cell_type": "code",
   "execution_count": null,
   "metadata": {},
   "outputs": [],
   "source": []
  }
 ]
}