{
 "metadata": {
  "language_info": {
   "codemirror_mode": {
    "name": "ipython",
    "version": 3
   },
   "file_extension": ".py",
   "mimetype": "text/x-python",
   "name": "python",
   "nbconvert_exporter": "python",
   "pygments_lexer": "ipython3",
   "version": "3.7.7-final"
  },
  "orig_nbformat": 2,
  "kernelspec": {
   "name": "Python 3.7.7 64-bit (conda)",
   "display_name": "Python 3.7.7 64-bit (conda)",
   "metadata": {
    "interpreter": {
     "hash": "e134e05457d34029b6460cd73bbf1ed73f339b5b6d98c95be70b69eba114fe95"
    }
   }
  }
 },
 "nbformat": 4,
 "nbformat_minor": 2,
 "cells": [
  {
   "source": [
    "# EDA for HMDA in Orange County, NC, 2018, 2019\n"
   ],
   "cell_type": "markdown",
   "metadata": {}
  },
  {
   "cell_type": "code",
   "execution_count": 3,
   "metadata": {},
   "outputs": [],
   "source": [
    "import pandas as pd\n",
    "import numpy as np\n",
    "import matplotlib.pyplot as plt\n",
    "import seaborn as sns\n",
    "from sklearn import metrics\n",
    "from sklearn.metrics import confusion_matrix\n",
    "from sklearn.model_selection import train_test_split, RandomizedSearchCV, KFold\n",
    "from sklearn.preprocessing import StandardScaler"
   ]
  },
  {
   "cell_type": "code",
   "execution_count": 44,
   "metadata": {},
   "outputs": [],
   "source": [
    "def merge_data():\n",
    "    '''\n",
    "    merge 2018, 19 data and write them to a new csv file\n",
    "    '''\n",
    "    Orange_2018 = pd.read_csv(\"./data_raw/county_37135_2018.csv\")\n",
    "    Orange_2019 = pd.read_csv(\"./data_raw/county_37135_2019.csv\")\n",
    "    Orange = pd.concat([Orange_2018, Orange_2019])\n",
    "    Orange.to_csv(\"./data_cleaned/county_37135.csv\", index=False)\n",
    "\n",
    "# merge_data()"
   ]
  },
  {
   "cell_type": "code",
   "execution_count": 49,
   "metadata": {},
   "outputs": [
    {
     "output_type": "execute_result",
     "data": {
      "text/plain": "64"
     },
     "metadata": {},
     "execution_count": 49
    }
   ],
   "source": [
    "# Orange = pd.read_csv(\"./data_cleaned/county_37135.csv\")\n"
   ]
  },
  {
   "cell_type": "code",
   "execution_count": 50,
   "metadata": {},
   "outputs": [
    {
     "output_type": "execute_result",
     "data": {
      "text/plain": "Index([&#39;Unnamed: 0&#39;, &#39;activity_year&#39;, &#39;lei&#39;, &#39;derived_msa-md&#39;, &#39;state_code&#39;,\n       &#39;county_code&#39;, &#39;census_tract&#39;, &#39;conforming_loan_limit&#39;,\n       &#39;derived_loan_product_type&#39;, &#39;derived_dwelling_category&#39;,\n       &#39;derived_ethnicity&#39;, &#39;derived_race&#39;, &#39;derived_sex&#39;, &#39;action_taken&#39;,\n       &#39;purchaser_type&#39;, &#39;preapproval&#39;, &#39;loan_type&#39;, &#39;loan_purpose&#39;,\n       &#39;lien_status&#39;, &#39;reverse_mortgage&#39;, &#39;open-end_line_of_credit&#39;,\n       &#39;business_or_commercial_purpose&#39;, &#39;loan_amount&#39;, &#39;hoepa_status&#39;,\n       &#39;loan_term&#39;, &#39;negative_amortization&#39;, &#39;interest_only_payment&#39;,\n       &#39;balloon_payment&#39;, &#39;other_nonamortizing_features&#39;, &#39;property_value&#39;,\n       &#39;construction_method&#39;, &#39;occupancy_type&#39;,\n       &#39;manufactured_home_secured_property_type&#39;,\n       &#39;manufactured_home_land_property_interest&#39;, &#39;total_units&#39;, &#39;income&#39;,\n       &#39;applicant_credit_score_type&#39;, &#39;co-applicant_credit_score_type&#39;,\n       &#39;applicant_ethnicity-1&#39;, &#39;co-applicant_ethnicity-1&#39;,\n       &#39;applicant_ethnicity_observed&#39;, &#39;co-applicant_ethnicity_observed&#39;,\n       &#39;applicant_race-1&#39;, &#39;co-applicant_race-1&#39;, &#39;applicant_race_observed&#39;,\n       &#39;co-applicant_race_observed&#39;, &#39;applicant_sex&#39;, &#39;co-applicant_sex&#39;,\n       &#39;applicant_sex_observed&#39;, &#39;co-applicant_sex_observed&#39;, &#39;applicant_age&#39;,\n       &#39;co-applicant_age&#39;, &#39;applicant_age_above_62&#39;,\n       &#39;submission_of_application&#39;, &#39;initially_payable_to_institution&#39;,\n       &#39;aus-1&#39;, &#39;denial_reason-1&#39;, &#39;tract_population&#39;,\n       &#39;tract_minority_population_percent&#39;,\n       &#39;ffiec_msa_md_median_family_income&#39;, &#39;tract_to_msa_income_percentage&#39;,\n       &#39;tract_owner_occupied_units&#39;, &#39;tract_one_to_four_family_homes&#39;,\n       &#39;tract_median_age_of_housing_units&#39;],\n      dtype=&#39;object&#39;)"
     },
     "metadata": {},
     "execution_count": 50
    }
   ],
   "source": [
    "Orange.columns[Orange.isnull().mean() < 0.2]"
   ]
  },
  {
   "cell_type": "code",
   "execution_count": 55,
   "metadata": {},
   "outputs": [],
   "source": [
    "def drop_na_columns():\n",
    "    merge_data()\n",
    "    Orange = pd.read_csv(\"./data_cleaned/county_37135.csv\")\n",
    "    Orange.replace(r'\\s+',np.nan,regex=True).replace('',np.nan).replace('NA', np.nan)\n",
    "    # drop all columns that has too much (> 20%) missing data\n",
    "    Orange = Orange[Orange.columns[Orange.isnull().mean() < 0.1]].iloc[:, 1: ]\n",
    "    Orange.to_csv(\"./data_cleaned/county_37135.csv\", index=False)\n",
    "# drop_na_columns()"
   ]
  },
  {
   "cell_type": "code",
   "execution_count": 71,
   "metadata": {},
   "outputs": [
    {
     "output_type": "execute_result",
     "data": {
      "text/plain": "[&#39;activity_year&#39;,\n &#39;lei&#39;,\n &#39;derived_msa-md&#39;,\n &#39;state_code&#39;,\n &#39;county_code&#39;,\n &#39;census_tract&#39;,\n &#39;conforming_loan_limit&#39;,\n &#39;derived_loan_product_type&#39;,\n &#39;derived_dwelling_category&#39;,\n &#39;derived_ethnicity&#39;,\n &#39;derived_race&#39;,\n &#39;derived_sex&#39;,\n &#39;action_taken&#39;,\n &#39;purchaser_type&#39;,\n &#39;preapproval&#39;,\n &#39;loan_type&#39;,\n &#39;loan_purpose&#39;,\n &#39;lien_status&#39;,\n &#39;reverse_mortgage&#39;,\n &#39;open-end_line_of_credit&#39;,\n &#39;business_or_commercial_purpose&#39;,\n &#39;loan_amount&#39;,\n &#39;hoepa_status&#39;,\n &#39;loan_term&#39;,\n &#39;negative_amortization&#39;,\n &#39;interest_only_payment&#39;,\n &#39;balloon_payment&#39;,\n &#39;other_nonamortizing_features&#39;,\n &#39;construction_method&#39;,\n &#39;occupancy_type&#39;,\n &#39;manufactured_home_secured_property_type&#39;,\n &#39;manufactured_home_land_property_interest&#39;,\n &#39;total_units&#39;,\n &#39;income&#39;,\n &#39;applicant_credit_score_type&#39;,\n &#39;co-applicant_credit_score_type&#39;,\n &#39;applicant_race-1&#39;,\n &#39;co-applicant_race-1&#39;,\n &#39;applicant_sex&#39;,\n &#39;co-applicant_sex&#39;,\n &#39;applicant_age&#39;,\n &#39;co-applicant_age&#39;,\n &#39;applicant_age_above_62&#39;,\n &#39;submission_of_application&#39;,\n &#39;initially_payable_to_institution&#39;,\n &#39;aus-1&#39;,\n &#39;denial_reason-1&#39;,\n &#39;tract_population&#39;,\n &#39;tract_minority_population_percent&#39;,\n &#39;ffiec_msa_md_median_family_income&#39;,\n &#39;tract_to_msa_income_percentage&#39;,\n &#39;tract_owner_occupied_units&#39;,\n &#39;tract_one_to_four_family_homes&#39;,\n &#39;tract_median_age_of_housing_units&#39;]"
     },
     "metadata": {},
     "execution_count": 71
    }
   ],
   "source": [
    "Orange = pd.read_csv(\"./data_cleaned/county_37135.csv\")\n",
    "cols = [c for c in Orange.columns if not (c.startswith(\"applicant_ethnicity\") or c.startswith(\"co-applicant_ethnicity\") or c.endswith(\"observed\"))]\n",
    "cols"
   ]
  },
  {
   "cell_type": "code",
   "execution_count": 64,
   "metadata": {},
   "outputs": [
    {
     "output_type": "execute_result",
     "data": {
      "text/plain": "Index([&#39;activity_year&#39;, &#39;lei&#39;, &#39;derived_msa-md&#39;, &#39;state_code&#39;, &#39;county_code&#39;,\n       &#39;census_tract&#39;, &#39;conforming_loan_limit&#39;, &#39;derived_loan_product_type&#39;,\n       &#39;derived_dwelling_category&#39;, &#39;derived_ethnicity&#39;, &#39;derived_race&#39;,\n       &#39;derived_sex&#39;, &#39;action_taken&#39;, &#39;purchaser_type&#39;, &#39;preapproval&#39;,\n       &#39;loan_type&#39;, &#39;loan_purpose&#39;, &#39;lien_status&#39;, &#39;reverse_mortgage&#39;,\n       &#39;open-end_line_of_credit&#39;, &#39;business_or_commercial_purpose&#39;,\n       &#39;loan_amount&#39;, &#39;hoepa_status&#39;, &#39;loan_term&#39;, &#39;negative_amortization&#39;,\n       &#39;interest_only_payment&#39;, &#39;balloon_payment&#39;,\n       &#39;other_nonamortizing_features&#39;, &#39;construction_method&#39;, &#39;occupancy_type&#39;,\n       &#39;manufactured_home_secured_property_type&#39;,\n       &#39;manufactured_home_land_property_interest&#39;, &#39;total_units&#39;, &#39;income&#39;,\n       &#39;applicant_credit_score_type&#39;, &#39;co-applicant_credit_score_type&#39;,\n       &#39;applicant_ethnicity-1&#39;, &#39;co-applicant_ethnicity-1&#39;,\n       &#39;applicant_ethnicity_observed&#39;, &#39;co-applicant_ethnicity_observed&#39;,\n       &#39;applicant_race-1&#39;, &#39;co-applicant_race-1&#39;, &#39;applicant_race_observed&#39;,\n       &#39;co-applicant_race_observed&#39;, &#39;applicant_sex&#39;, &#39;co-applicant_sex&#39;,\n       &#39;applicant_sex_observed&#39;, &#39;co-applicant_sex_observed&#39;, &#39;applicant_age&#39;,\n       &#39;co-applicant_age&#39;, &#39;applicant_age_above_62&#39;,\n       &#39;submission_of_application&#39;, &#39;initially_payable_to_institution&#39;,\n       &#39;aus-1&#39;, &#39;denial_reason-1&#39;, &#39;tract_population&#39;,\n       &#39;tract_minority_population_percent&#39;,\n       &#39;ffiec_msa_md_median_family_income&#39;, &#39;tract_to_msa_income_percentage&#39;,\n       &#39;tract_owner_occupied_units&#39;, &#39;tract_one_to_four_family_homes&#39;,\n       &#39;tract_median_age_of_housing_units&#39;],\n      dtype=&#39;object&#39;)"
     },
     "metadata": {},
     "execution_count": 64
    }
   ],
   "source": [
    "Orange.columns"
   ]
  },
  {
   "cell_type": "code",
   "execution_count": 5,
   "metadata": {},
   "outputs": [
    {
     "output_type": "execute_result",
     "data": {
      "text/plain": "Index([&#39;as_of_year&#39;, &#39;respondent_id&#39;, &#39;agency_name&#39;, &#39;agency_abbr&#39;,\n       &#39;agency_code&#39;, &#39;loan_type_name&#39;, &#39;loan_type&#39;, &#39;property_type_name&#39;,\n       &#39;property_type&#39;, &#39;loan_purpose_name&#39;, &#39;loan_purpose&#39;,\n       &#39;owner_occupancy_name&#39;, &#39;owner_occupancy&#39;, &#39;loan_amount_000s&#39;,\n       &#39;preapproval_name&#39;, &#39;preapproval&#39;, &#39;action_taken_name&#39;, &#39;action_taken&#39;,\n       &#39;msamd_name&#39;, &#39;msamd&#39;, &#39;state_name&#39;, &#39;state_abbr&#39;, &#39;state_code&#39;,\n       &#39;county_name&#39;, &#39;county_code&#39;, &#39;census_tract_number&#39;,\n       &#39;applicant_ethnicity_name&#39;, &#39;applicant_ethnicity&#39;,\n       &#39;co_applicant_ethnicity_name&#39;, &#39;co_applicant_ethnicity&#39;,\n       &#39;applicant_race_name_1&#39;, &#39;applicant_race_1&#39;, &#39;applicant_race_name_2&#39;,\n       &#39;applicant_race_2&#39;, &#39;applicant_race_name_3&#39;, &#39;applicant_race_3&#39;,\n       &#39;applicant_race_name_4&#39;, &#39;applicant_race_4&#39;, &#39;applicant_race_name_5&#39;,\n       &#39;applicant_race_5&#39;, &#39;co_applicant_race_name_1&#39;, &#39;co_applicant_race_1&#39;,\n       &#39;co_applicant_race_name_2&#39;, &#39;co_applicant_race_2&#39;,\n       &#39;co_applicant_race_name_3&#39;, &#39;co_applicant_race_3&#39;,\n       &#39;co_applicant_race_name_4&#39;, &#39;co_applicant_race_4&#39;,\n       &#39;co_applicant_race_name_5&#39;, &#39;co_applicant_race_5&#39;, &#39;applicant_sex_name&#39;,\n       &#39;applicant_sex&#39;, &#39;co_applicant_sex_name&#39;, &#39;co_applicant_sex&#39;,\n       &#39;applicant_income_000s&#39;, &#39;purchaser_type_name&#39;, &#39;purchaser_type&#39;,\n       &#39;denial_reason_name_1&#39;, &#39;denial_reason_1&#39;, &#39;denial_reason_name_2&#39;,\n       &#39;denial_reason_2&#39;, &#39;denial_reason_name_3&#39;, &#39;denial_reason_3&#39;,\n       &#39;rate_spread&#39;, &#39;hoepa_status_name&#39;, &#39;hoepa_status&#39;, &#39;lien_status_name&#39;,\n       &#39;lien_status&#39;, &#39;edit_status_name&#39;, &#39;edit_status&#39;, &#39;sequence_number&#39;,\n       &#39;population&#39;, &#39;minority_population&#39;, &#39;hud_median_family_income&#39;,\n       &#39;tract_to_msamd_income&#39;, &#39;number_of_owner_occupied_units&#39;,\n       &#39;number_of_1_to_4_family_units&#39;, &#39;application_date_indicator&#39;],\n      dtype=&#39;object&#39;)"
     },
     "metadata": {},
     "execution_count": 5
    }
   ],
   "source": [
    "NC_data = pd.read_csv(\"data_raw/hmda_2013_nc_all-records_labels.csv\")\n"
   ]
  },
  {
   "cell_type": "code",
   "execution_count": 6,
   "metadata": {},
   "outputs": [
    {
     "output_type": "execute_result",
     "data": {
      "text/plain": "78"
     },
     "metadata": {},
     "execution_count": 6
    }
   ],
   "source": [
    "len(NC_data.columns)"
   ]
  },
  {
   "cell_type": "code",
   "execution_count": null,
   "metadata": {},
   "outputs": [],
   "source": []
  }
 ]
}